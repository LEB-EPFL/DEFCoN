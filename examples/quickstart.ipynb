{
 "cells": [
  {
   "cell_type": "markdown",
   "metadata": {},
   "source": [
    "# DEFCoN Tutorial\n",
    "\n",
    "This tutorial is a quick introduction to using the Density Estimation Fully Convolutional Network (DEFCoN) for fluorescence spot counting in localization microscopy. This tutorial covers:\n",
    "\n",
    "- [Importing images and ground truth datasets](#Importing Training Data)\n",
    "- [Training DEFCoN](#Training)\n",
    "- [Prediction](#Prediction)\n",
    "- Exporting the network for Java applications\n",
    "\n",
    "### Getting Help\n",
    "\n",
    "If you have any questions, please ask in the DEFCoN Gitter chat room: https://gitter.im/leb_epfl/DEFCoN\n",
    "\n",
    "### Additional Information\n",
    "\n",
    "DEFCoN is part of a family of software packages for automating super-resolution microscopes from the [Laboratory of Experimental Biophysics](https://leb.epfl.ch/) at the École Polytechnique Fédérale de Lausanne (EPFL), Switzerland. The other packages include:\n",
    "\n",
    "- [Automated Laser Illumination Control Algorithms (ALICA)](https://github.com/LEB-EPFL/ALICA)\n",
    "- [SMLM Simulation Acquisition Software (SASS)](https://github.com/LEB-EPFL/SASS)\n",
    "\n",
    "### Attribution\n",
    "\n",
    "If you use DEFCoN in your own work, then please use the following citation.\n",
    "\n",
    "> Ottino, B., Douglass, Kyle M., and Manley, S., \"DEFCoN\", https://github.com/kmdouglass/DEFCoN (2018)\n",
    "\n",
    "A full citation will follow shortly."
   ]
  },
  {
   "cell_type": "markdown",
   "metadata": {},
   "source": [
    "# Preliminary Steps\n",
    "\n",
    "Before running this tutorial, you should download the example datasets. These may be found at:\n",
    "\n",
    "> Ottino, Baptiste, Douglass, Kyle M., & Manley, Suliana. (2018). Example datasets for DEFCoN (Version 2) [Data set]. Zenodo. http://doi.org/10.5281/zenodo.1207965\n",
    "\n",
    "You may either do this manually, or run the code below to download the dataset directly to the same directory as this notebook."
   ]
  },
  {
   "cell_type": "code",
   "execution_count": 1,
   "metadata": {},
   "outputs": [],
   "source": [
    "import urllib.request as request\n",
    "import zipfile\n",
    "import os\n",
    "\n",
    "url_root = 'https://zenodo.org/record/1207965/files/'\n",
    "filename = 'DEFCoN_example_data.zip'\n",
    "url = url_root + filename\n",
    "\n",
    "# Download the zip file from Zenodo.\n",
    "with request.urlopen(url) as host_file:\n",
    "    with open(filename, 'wb') as client_file:\n",
    "        client_file.write(host_file.read())\n",
    "assert os.path.isfile(filename), 'Error: file {} does not exist.'.format(filename)\n",
    "\n",
    "# Extract the contents of the file to the same directory as this notebook.\n",
    "with zipfile.ZipFile(filename, 'r') as zip_ref:\n",
    "    zip_ref.extractall('./')\n",
    "    \n",
    "# Delete the zip file\n",
    "os.remove(filename)\n",
    "\n",
    "example_dir = filename.split('.')[0]"
   ]
  },
  {
   "cell_type": "markdown",
   "metadata": {},
   "source": [
    "# Importing Training Data\n",
    "\n",
    "### Creating a TrainingSet\n",
    "\n",
    "A `TrainingSet` is a set of SMLM images and additional ground truth information. For our purposes, the training images in this example were simulated using [SASS](https://github.com/LEB-EPFL/SASS). However, you can use any source of images so long as you have an accompanying ground truth file. This file is a comma separated value (CSV) file that contains information about the fluorophores that are emitting in each image. \n",
    "\n",
    "- Input images must be either in TIFF (.tif, .tiff) or HDF5 (.h5, .hdf5, .he5) formats.\n",
    "- Image files may contain one or more images.\n",
    "- Ground truth data must contain columns with the labels `frame`, `x`, `y`, and `brightness`.\n",
    "    - The units of `x` and `y` are in pixels and support sub-pixel precisions.\n",
    "    - The units of `brightness` are photons.\n",
    "- Ground truth data may contain other columns, but these will be ignored.\n",
    "\n",
    "Let's go ahead and create an instance of a TrainingSet."
   ]
  },
  {
   "cell_type": "code",
   "execution_count": 2,
   "metadata": {},
   "outputs": [
    {
     "name": "stderr",
     "output_type": "stream",
     "text": [
      "/home/douglass/anaconda3/envs/DEFCoN/lib/python3.6/site-packages/h5py/__init__.py:36: FutureWarning: Conversion of the second argument of issubdtype from `float` to `np.floating` is deprecated. In future, it will be treated as `np.float64 == np.dtype(float).type`.\n",
      "  from ._conv import register_converters as _register_converters\n"
     ]
    }
   ],
   "source": [
    "from pathlib import Path\n",
    "from leb.defcon.datasets import TrainingSet\n",
    "\n",
    "h5_path = Path(example_dir) / Path('training/my_training_set.h5')\n",
    "\n",
    "# Create a .h5 file, replace if exists\n",
    "my_training_set = TrainingSet(h5_path, 'w')"
   ]
  },
  {
   "cell_type": "markdown",
   "metadata": {},
   "source": [
    "At this point, the TrainingSet is empty."
   ]
  },
  {
   "cell_type": "code",
   "execution_count": 3,
   "metadata": {},
   "outputs": [
    {
     "name": "stdout",
     "output_type": "stream",
     "text": [
      "\n",
      "DEFCoN_example_data/training/my_training_set.h5\n",
      "/\n",
      "    input/\n",
      "    target/\n",
      "\n"
     ]
    }
   ],
   "source": [
    "my_training_set.summary()"
   ]
  },
  {
   "cell_type": "markdown",
   "metadata": {},
   "source": [
    "The method `add_dataset` is used to add the input images to the TrainingSet and to build their density maps and segmentation masks from the ground truth."
   ]
  },
  {
   "cell_type": "code",
   "execution_count": 4,
   "metadata": {},
   "outputs": [],
   "source": [
    "from IPython.display import clear_output\n",
    "\n",
    "dataset_name = 'first_dataset'\n",
    "input_file = str(Path(example_dir) / Path('data_1/generated_stack.tif'))\n",
    "frame_logger = str(Path(example_dir) / Path('data_1/frame_logger.csv'))\n",
    "\n",
    "my_training_set.add_dataset(name=dataset_name,\n",
    "                            input_file=input_file,\n",
    "                            frame_logger=frame_logger)\n",
    "clear_output()"
   ]
  },
  {
   "cell_type": "markdown",
   "metadata": {},
   "source": [
    "The TrainingSet now looks like this:"
   ]
  },
  {
   "cell_type": "code",
   "execution_count": 5,
   "metadata": {},
   "outputs": [
    {
     "name": "stdout",
     "output_type": "stream",
     "text": [
      "\n",
      "DEFCoN_example_data/training/my_training_set.h5\n",
      "/\n",
      "    input/\n",
      "        first_dataset: shape = (1500, 64, 64, 1), dtype = float64\n",
      "    seg_map/\n",
      "        first_dataset: shape = (1500, 64, 64, 1), dtype = int64\n",
      "    target/\n",
      "        first_dataset: shape = (1500, 64, 64, 1), dtype = float64\n",
      "\n"
     ]
    }
   ],
   "source": [
    "my_training_set.summary()"
   ]
  },
  {
   "cell_type": "markdown",
   "metadata": {},
   "source": [
    "Adding a second dataset, the TrainingSet becomes:"
   ]
  },
  {
   "cell_type": "code",
   "execution_count": 6,
   "metadata": {},
   "outputs": [
    {
     "name": "stdout",
     "output_type": "stream",
     "text": [
      "\n",
      "DEFCoN_example_data/training/my_training_set.h5\n",
      "/\n",
      "    input/\n",
      "        first_dataset: shape = (1500, 64, 64, 1), dtype = float64\n",
      "        second_dataset: shape = (1500, 64, 64, 1), dtype = float64\n",
      "    seg_map/\n",
      "        first_dataset: shape = (1500, 64, 64, 1), dtype = int64\n",
      "        second_dataset: shape = (1500, 64, 64, 1), dtype = int64\n",
      "    target/\n",
      "        first_dataset: shape = (1500, 64, 64, 1), dtype = float64\n",
      "        second_dataset: shape = (1500, 64, 64, 1), dtype = float64\n",
      "\n"
     ]
    }
   ],
   "source": [
    "dataset_name = 'second_dataset'\n",
    "input_file = str(Path(example_dir) / Path('data_2/generated_stack.tif'))\n",
    "frame_logger = str(Path(example_dir) / Path('data_2/frame_logger.csv'))\n",
    "\n",
    "my_training_set.add_dataset(name=dataset_name,\n",
    "                            input_file=input_file,\n",
    "                            frame_logger=frame_logger)\n",
    "\n",
    "clear_output()\n",
    "my_training_set.summary()"
   ]
  },
  {
   "cell_type": "markdown",
   "metadata": {},
   "source": [
    "Because TrainingSets have an underlying HDF5 representation, you should always close the TrainingSet when you're done using it."
   ]
  },
  {
   "cell_type": "code",
   "execution_count": 7,
   "metadata": {},
   "outputs": [],
   "source": [
    "my_training_set.close()"
   ]
  },
  {
   "cell_type": "markdown",
   "metadata": {},
   "source": [
    "### Creating a compact TrainingSet\n",
    "To train faster, a TrainingSet containing multiple datasets can be compacted in a single large dataset, provided that _all input images have the same dimensions_.The images can be augmented (by random brightness changes) and shuffled in the process"
   ]
  },
  {
   "cell_type": "code",
   "execution_count": 8,
   "metadata": {},
   "outputs": [
    {
     "name": "stdout",
     "output_type": "stream",
     "text": [
      "Compacting input data...\n",
      "    first_dataset...\n",
      "    second_dataset...\n",
      "Augmenting data...\n",
      "Compacting seg_map data...\n",
      "    first_dataset...\n",
      "    second_dataset...\n",
      "Compacting target data...\n",
      "    first_dataset...\n",
      "    second_dataset...\n"
     ]
    }
   ],
   "source": [
    "from leb.defcon.datasets import compact_set\n",
    "\n",
    "# This time, we open my_training_set in read_only mode\n",
    "my_training_set = TrainingSet(h5_path, 'r')\n",
    "\n",
    "# Output a compact training set named 'my_compact_set.h5'\n",
    "h5_path_compact = str(Path(example_dir) / Path('training/my_compact_set.h5'))\n",
    "compact_set(my_training_set,\n",
    "            output_file=h5_path_compact,\n",
    "            shuffle=True,\n",
    "            augment=True)\n",
    "\n",
    "# Close my_training_set\n",
    "my_training_set.close()\n",
    "\n",
    "assert os.path.isfile(h5_path_compact), 'Error: file {} does not exist.'.format(h5_path_compact)"
   ]
  },
  {
   "cell_type": "markdown",
   "metadata": {},
   "source": [
    "The result of compacting the datasets is that the images, segmentation map, and target density maps are now all stacked one-atop-the-other. This makes training faster because it minimizes the number of times that a HDF5 file needs to be opened and closed."
   ]
  },
  {
   "cell_type": "code",
   "execution_count": 9,
   "metadata": {},
   "outputs": [
    {
     "name": "stdout",
     "output_type": "stream",
     "text": [
      "\n",
      "DEFCoN_example_data/training/my_compact_set.h5\n",
      "/\n",
      "    input/\n",
      "        input: shape = (3000, 64, 64, 1), dtype = float64\n",
      "    seg_map/\n",
      "        seg_map: shape = (3000, 64, 64, 1), dtype = int64\n",
      "    target/\n",
      "        target: shape = (3000, 64, 64, 1), dtype = float64\n",
      "\n"
     ]
    }
   ],
   "source": [
    "with TrainingSet(h5_path_compact) as my_compact_set:\n",
    "    my_compact_set.summary()"
   ]
  },
  {
   "cell_type": "markdown",
   "metadata": {},
   "source": [
    "### Investigating the constructed maps\n",
    "\n",
    "It may be useful to verify that the segmentation maps and target density maps have been constructed properly. To do this, we can use the underlying h5py [File](http://docs.h5py.org/en/latest/high/file.html) representation to access the datasets from within the file."
   ]
  },
  {
   "cell_type": "code",
   "execution_count": 10,
   "metadata": {},
   "outputs": [
    {
     "data": {
      "image/png": "[encoded data removed]",
      "text/plain": [
       "<Figure size 432x288 with 3 Axes>"
      ]
     },
     "metadata": {},
     "output_type": "display_data"
    }
   ],
   "source": [
    "import h5py\n",
    "%matplotlib inline\n",
    "import matplotlib.pyplot as plt\n",
    "\n",
    "frame_num = 2500\n",
    "\n",
    "with h5py.File(h5_path_compact, 'r') as f:\n",
    "    input_ex = f['input/input'][frame_num, :, :, :]\n",
    "    seg_map  = f['seg_map/seg_map'][frame_num, :, :, :]\n",
    "    target   = f['target/target'][frame_num, :, :, :]\n",
    "    \n",
    "fig, ax = plt.subplots(ncols=3)\n",
    "ax[0].imshow(input_ex.squeeze()) # Squeeze just drops the extra singleton dimension on the arrays\n",
    "ax[1].imshow(seg_map.squeeze())\n",
    "ax[2].imshow(target.squeeze())\n",
    "\n",
    "ax[0].set_title('Input')\n",
    "ax[1].set_title('Seg. map')\n",
    "ax[2].set_title('Target')\n",
    "\n",
    "for a in ax:\n",
    "    a.set_axis_off()\n",
    "    \n",
    "plt.show()"
   ]
  },
  {
   "cell_type": "markdown",
   "metadata": {},
   "source": [
    "## Training\n",
    "\n",
    "The training routine for DEFCoN consists of two steps:\n",
    "\n",
    "1. train just the segmentation network;\n",
    "2. freeze the segmentation network weights and train the full network (segmentation plus density networks).\n",
    "\n",
    "These steps are implemented in the `train` method from the `leb.defcon.training` module. To perform the training, it is necessary to define the training parameters in a **config.ini** file. Within this file, we specify the locations of the training data, output directories, and several other parameters.\n",
    "\n",
    "Here is what our example config.ini file looks like:"
   ]
  },
  {
   "cell_type": "raw",
   "metadata": {},
   "source": [
    "# Configuration file for training DEFCoN\n",
    "[General]\n",
    "# Name of the keras model to save\n",
    "ModelName = my_trained_model.h5\n",
    "# Path to the TrainingSet h5 file\n",
    "TrainingSetPath = ./my_compact_set.h5\n",
    "# Output directory\n",
    "OutputDir = trained_models/\n",
    "# Directory to store the intermediary weights\n",
    "WeightDir = weights/\n",
    "\n",
    "[SegNet]\n",
    "BatchSize = 32\n",
    "NumEpochs = 15\n",
    "ValidationSplit = 0.1\n",
    "AdamLR = 0.001\n",
    "\n",
    "[DensityNet]\n",
    "LambdaFactor = 0.01\n",
    "BatchSize = 32\n",
    "NumEpochs = 15\n",
    "ValidationSplit = 0.1\n",
    "AdamLR = 0.001"
   ]
  },
  {
   "cell_type": "markdown",
   "metadata": {},
   "source": [
    "The first section just deals with the paths of the TrainingSet and the output model and weights. Note that the paths to the directories and training data file are **relative to the config.ini file**. The other sections let the user tune the parameters of the training.\n",
    "\n",
    "The most efficient method for training is to train on a compact set of augmented and shuffled images.\n",
    "\n",
    "To train a model, simply run the cell below.\n",
    "\n",
    "**NOTE: It is highly recommended that you have Keras and Tensorflow configured for GPU use because training can be quite slow on a CPU.**"
   ]
  },
  {
   "cell_type": "code",
   "execution_count": 11,
   "metadata": {},
   "outputs": [
    {
     "name": "stderr",
     "output_type": "stream",
     "text": [
      "Using TensorFlow backend.\n",
      "/home/douglass/anaconda3/envs/DEFCoN/lib/python3.6/importlib/_bootstrap.py:219: RuntimeWarning: compiletime version 3.5 of module 'tensorflow.python.framework.fast_tensor_util' does not match runtime version 3.6\n",
      "  return f(*args, **kwds)\n"
     ]
    },
    {
     "name": "stdout",
     "output_type": "stream",
     "text": [
      "_________________________________________________________________\n",
      "Layer (type)                 Output Shape              Param #   \n",
      "=================================================================\n",
      "input (InputLayer)           (None, None, None, 1)     0         \n",
      "_________________________________________________________________\n",
      "hist_norm (Lambda)           (None, None, None, 1)     0         \n",
      "_________________________________________________________________\n",
      "conv_seg_1 (Conv2D)          (None, None, None, 16)    160       \n",
      "_________________________________________________________________\n",
      "conv_stride_1 (Conv2D)       (None, None, None, 16)    2320      \n",
      "_________________________________________________________________\n",
      "conv_seg_2 (Conv2D)          (None, None, None, 32)    4640      \n",
      "_________________________________________________________________\n",
      "conv_stride_2 (Conv2D)       (None, None, None, 32)    9248      \n",
      "_________________________________________________________________\n",
      "conv_seg_3 (Conv2D)          (None, None, None, 64)    18496     \n",
      "_________________________________________________________________\n",
      "dropout_seg (Dropout)        (None, None, None, 64)    0         \n",
      "_________________________________________________________________\n",
      "deconv_seg_1 (Conv2DTranspos (None, None, None, 8)     4616      \n",
      "_________________________________________________________________\n",
      "decon_seg_2 (Conv2DTranspose (None, None, None, 8)     584       \n",
      "_________________________________________________________________\n",
      "seg (Conv2D)                 (None, None, None, 1)     8         \n",
      "=================================================================\n",
      "Total params: 40,072\n",
      "Trainable params: 40,072\n",
      "Non-trainable params: 0\n",
      "_________________________________________________________________\n",
      "Train on 2700 samples, validate on 300 samples\n",
      "Epoch 1/15\n",
      "2700/2700 [==============================] - 33s 12ms/step - loss: 0.4683 - val_loss: 0.1792\n",
      "Epoch 2/15\n",
      "2700/2700 [==============================] - 33s 12ms/step - loss: 0.1535 - val_loss: 0.1091\n",
      "Epoch 3/15\n",
      "2700/2700 [==============================] - 33s 12ms/step - loss: 0.0873 - val_loss: 0.0727\n",
      "Epoch 4/15\n",
      "2700/2700 [==============================] - 33s 12ms/step - loss: 0.0654 - val_loss: 0.0595\n",
      "Epoch 5/15\n",
      "2700/2700 [==============================] - 33s 12ms/step - loss: 0.0587 - val_loss: 0.0540\n",
      "Epoch 6/15\n",
      "2700/2700 [==============================] - 33s 12ms/step - loss: 0.0527 - val_loss: 0.0450\n",
      "Epoch 7/15\n",
      "2700/2700 [==============================] - 33s 12ms/step - loss: 0.0451 - val_loss: 0.0391\n",
      "Epoch 8/15\n",
      "2700/2700 [==============================] - 33s 12ms/step - loss: 0.0410 - val_loss: 0.0356\n",
      "Epoch 9/15\n",
      "2700/2700 [==============================] - 33s 12ms/step - loss: 0.0381 - val_loss: 0.0343\n",
      "Epoch 10/15\n",
      "2700/2700 [==============================] - 33s 12ms/step - loss: 0.0368 - val_loss: 0.0320\n",
      "Epoch 11/15\n",
      "2700/2700 [==============================] - 33s 12ms/step - loss: 0.0355 - val_loss: 0.0315\n",
      "Epoch 12/15\n",
      "2700/2700 [==============================] - 33s 12ms/step - loss: 0.0349 - val_loss: 0.0312\n",
      "Epoch 13/15\n",
      "2700/2700 [==============================] - 33s 12ms/step - loss: 0.0339 - val_loss: 0.0298\n",
      "Epoch 14/15\n",
      "2700/2700 [==============================] - 33s 12ms/step - loss: 0.0333 - val_loss: 0.0295\n",
      "Epoch 15/15\n",
      "2700/2700 [==============================] - 33s 12ms/step - loss: 0.0328 - val_loss: 0.0289\n",
      "_________________________________________________________________\n",
      "Layer (type)                 Output Shape              Param #   \n",
      "=================================================================\n",
      "input (InputLayer)           (None, None, None, 1)     0         \n",
      "_________________________________________________________________\n",
      "hist_norm (Lambda)           (None, None, None, 1)     0         \n",
      "_________________________________________________________________\n",
      "conv_seg_1 (Conv2D)          (None, None, None, 16)    160       \n",
      "_________________________________________________________________\n",
      "conv_stride_1 (Conv2D)       (None, None, None, 16)    2320      \n",
      "_________________________________________________________________\n",
      "conv_seg_2 (Conv2D)          (None, None, None, 32)    4640      \n",
      "_________________________________________________________________\n",
      "conv_stride_2 (Conv2D)       (None, None, None, 32)    9248      \n",
      "_________________________________________________________________\n",
      "conv_seg_3 (Conv2D)          (None, None, None, 64)    18496     \n",
      "_________________________________________________________________\n",
      "dropout_seg (Dropout)        (None, None, None, 64)    0         \n",
      "_________________________________________________________________\n",
      "deconv_seg_1 (Conv2DTranspos (None, None, None, 8)     4616      \n",
      "_________________________________________________________________\n",
      "decon_seg_2 (Conv2DTranspose (None, None, None, 8)     584       \n",
      "_________________________________________________________________\n",
      "seg (Conv2D)                 (None, None, None, 1)     8         \n",
      "_________________________________________________________________\n",
      "conv_1 (Conv2D)              (None, None, None, 16)    160       \n",
      "_________________________________________________________________\n",
      "conv_2 (Conv2D)              (None, None, None, 16)    2320      \n",
      "_________________________________________________________________\n",
      "conv_3 (Conv2D)              (None, None, None, 32)    4640      \n",
      "_________________________________________________________________\n",
      "conv_4 (Conv2D)              (None, None, None, 32)    9248      \n",
      "_________________________________________________________________\n",
      "conv_5 (Conv2D)              (None, None, None, 64)    51264     \n",
      "_________________________________________________________________\n",
      "dropout (Dropout)            (None, None, None, 64)    0         \n",
      "_________________________________________________________________\n",
      "deconv_1 (Conv2DTranspose)   (None, None, None, 8)     4616      \n",
      "_________________________________________________________________\n",
      "deconv_2 (Conv2DTranspose)   (None, None, None, 8)     584       \n",
      "_________________________________________________________________\n",
      "density (Conv2D)             (None, None, None, 1)     8         \n",
      "=================================================================\n",
      "Total params: 112,912\n",
      "Trainable params: 72,840\n",
      "Non-trainable params: 40,072\n",
      "_________________________________________________________________\n",
      "Train on 2700 samples, validate on 300 samples\n",
      "Epoch 1/15\n",
      "2700/2700 [==============================] - 53s 20ms/step - loss: 2.6157 - val_loss: 1.5021\n",
      "Epoch 2/15\n",
      "2700/2700 [==============================] - 52s 19ms/step - loss: 1.1632 - val_loss: 0.8237\n",
      "Epoch 3/15\n",
      "2700/2700 [==============================] - 52s 19ms/step - loss: 0.8182 - val_loss: 0.8753\n"
     ]
    }
   ],
   "source": [
    "from leb.defcon import training\n",
    "\n",
    "config_file = str(Path(example_dir) / Path('training/config.ini'))\n",
    "training.train(config_file)"
   ]
  },
  {
   "cell_type": "markdown",
   "metadata": {},
   "source": [
    "The training script can also be run from the command line:\n",
    "\n",
    "```sh\n",
    "python training.py path_to_config_file\n",
    "```"
   ]
  },
  {
   "cell_type": "markdown",
   "metadata": {},
   "source": [
    "## Prediction\n",
    "\n",
    "Predictions of density maps from images may be made on `TrainingSet` data or on images. `leb.defcon.networks.FCN` is a class inheriting methods from the Keras Model class and with additional methods for prediction and serving the data for Java applications."
   ]
  },
  {
   "cell_type": "code",
   "execution_count": 12,
   "metadata": {},
   "outputs": [],
   "source": [
    "from leb.defcon.networks import FCN\n",
    "from leb.defcon.datasets import TrainingSet\n",
    "import numpy as np\n",
    "\n",
    "# Import the trained model from the saved h5 file\n",
    "filename = str(Path(example_dir) / Path('training/trained_models/my_trained_model.h5'))\n",
    "model = FCN.from_file(filename)\n",
    "\n",
    "# Predict from array read from a HDF file\n",
    "with TrainingSet(h5_path, 'r') as my_training_set:\n",
    "    array = np.array(my_training_set['input/first_dataset'])\n",
    "\n",
    "y_pred_array = model.predict(array)\n",
    "\n",
    "# Predict from image stack\n",
    "tif_file = str(Path(example_dir) / Path('data_1/generated_stack.tif'))\n",
    "y_pred_tiff = model.predict_tiff(tif_file)"
   ]
  },
  {
   "cell_type": "markdown",
   "metadata": {},
   "source": [
    "The prediction is a stack of density maps as a NumPy array with 4 dimensions: (N_frames, x, y, 1). The last dimension is the number of channels (1 because it is grayscale).\n",
    "\n",
    "Let's visualize how well the network made the density map predictions."
   ]
  },
  {
   "cell_type": "code",
   "execution_count": 13,
   "metadata": {},
   "outputs": [
    {
     "data": {
      "image/png": "[encoded data removed]",
      "text/plain": [
       "<Figure size 432x288 with 3 Axes>"
      ]
     },
     "metadata": {},
     "output_type": "display_data"
    }
   ],
   "source": [
    "frame_num = 750\n",
    "\n",
    "pred = y_pred_array[frame_num, :, :, :].squeeze()\n",
    "\n",
    "with h5py.File(h5_path, 'r') as f:\n",
    "    input_ex = f['input/first_dataset'][frame_num, :, :, :]\n",
    "    target   = f['target/first_dataset'][frame_num, :, :, :]\n",
    "    \n",
    "fig, ax = plt.subplots(ncols=3)\n",
    "ax[0].imshow(input_ex.squeeze())\n",
    "ax[1].imshow(target.squeeze())\n",
    "ax[2].imshow(pred)\n",
    "\n",
    "ax[0].set_title('Input')\n",
    "ax[1].set_title('Target')\n",
    "ax[2].set_title('Prediction')\n",
    "\n",
    "for a in ax:\n",
    "    a.set_axis_off()\n",
    "    \n",
    "plt.show()"
   ]
  },
  {
   "cell_type": "markdown",
   "metadata": {},
   "source": [
    "## Serving for Java"
   ]
  },
  {
   "cell_type": "markdown",
   "metadata": {},
   "source": [
    "A trained DEFCoN model can be exported for use in other applications and languages, such as Java.\n",
    "\n",
    "**This section should be run in a fresh environment. Restart the notebook kernel and proceed from this cell.**"
   ]
  },
  {
   "cell_type": "code",
   "execution_count": 1,
   "metadata": {},
   "outputs": [
    {
     "name": "stderr",
     "output_type": "stream",
     "text": [
      "/home/douglass/anaconda3/envs/DEFCoN/lib/python3.6/site-packages/h5py/__init__.py:36: FutureWarning: Conversion of the second argument of issubdtype from `float` to `np.floating` is deprecated. In future, it will be treated as `np.float64 == np.dtype(float).type`.\n",
      "  from ._conv import register_converters as _register_converters\n",
      "Using TensorFlow backend.\n",
      "/home/douglass/anaconda3/envs/DEFCoN/lib/python3.6/importlib/_bootstrap.py:219: RuntimeWarning: compiletime version 3.5 of module 'tensorflow.python.framework.fast_tensor_util' does not match runtime version 3.6\n",
      "  return f(*args, **kwds)\n"
     ]
    },
    {
     "name": "stdout",
     "output_type": "stream",
     "text": [
      "INFO:tensorflow:No assets to save.\n",
      "INFO:tensorflow:No assets to write.\n",
      "INFO:tensorflow:SavedModel written to: b'DEFCoN_example_data/serving/tf_density_count/saved_model.pb'\n"
     ]
    }
   ],
   "source": [
    "from leb.defcon.networks import FCN\n",
    "from pathlib import Path\n",
    "\n",
    "# Import the trained model from the saved h5 file\n",
    "example_dir = 'DEFCoN_example_data'\n",
    "file_in = str(Path(example_dir / Path('training/trained_models/my_trained_model.h5')))\n",
    "model = FCN.from_file(file_in)\n",
    "\n",
    "# Save it for serving\n",
    "file_out = str(Path(example_dir) / Path('serving/tf_density_count'))\n",
    "model.save_tf_model(file_out)"
   ]
  },
  {
   "cell_type": "markdown",
   "metadata": {},
   "source": [
    "The resulting folder can be directly placed in the DEFCoN plugin directory in FIJI\n",
    "\n",
    "\n",
    "Fiji.app/plugins/DEFCoN/tf_density_count"
   ]
  },
  {
   "cell_type": "markdown",
   "metadata": {},
   "source": [
    "### Maximum local count\n",
    "\n",
    "Trained DEFCoN model can be converted to allow for maximum count prediction by adding layers.\n",
    "\n",
    "**This section should be run in a fresh environment. Restart the notebook kernel and proceed from this cell.**"
   ]
  },
  {
   "cell_type": "code",
   "execution_count": 1,
   "metadata": {},
   "outputs": [
    {
     "name": "stderr",
     "output_type": "stream",
     "text": [
      "/home/douglass/anaconda3/envs/DEFCoN/lib/python3.6/site-packages/h5py/__init__.py:36: FutureWarning: Conversion of the second argument of issubdtype from `float` to `np.floating` is deprecated. In future, it will be treated as `np.float64 == np.dtype(float).type`.\n",
      "  from ._conv import register_converters as _register_converters\n",
      "Using TensorFlow backend.\n",
      "/home/douglass/anaconda3/envs/DEFCoN/lib/python3.6/importlib/_bootstrap.py:219: RuntimeWarning: compiletime version 3.5 of module 'tensorflow.python.framework.fast_tensor_util' does not match runtime version 3.6\n",
      "  return f(*args, **kwds)\n"
     ]
    },
    {
     "name": "stdout",
     "output_type": "stream",
     "text": [
      "_________________________________________________________________\n",
      "Layer (type)                 Output Shape              Param #   \n",
      "=================================================================\n",
      "input (InputLayer)           (None, None, None, 1)     0         \n",
      "_________________________________________________________________\n",
      "hist_norm (Lambda)           (None, None, None, 1)     0         \n",
      "_________________________________________________________________\n",
      "conv_seg_1 (Conv2D)          (None, None, None, 16)    160       \n",
      "_________________________________________________________________\n",
      "conv_stride_1 (Conv2D)       (None, None, None, 16)    2320      \n",
      "_________________________________________________________________\n",
      "conv_seg_2 (Conv2D)          (None, None, None, 32)    4640      \n",
      "_________________________________________________________________\n",
      "conv_stride_2 (Conv2D)       (None, None, None, 32)    9248      \n",
      "_________________________________________________________________\n",
      "conv_seg_3 (Conv2D)          (None, None, None, 64)    18496     \n",
      "_________________________________________________________________\n",
      "dropout_seg (Dropout)        (None, None, None, 64)    0         \n",
      "_________________________________________________________________\n",
      "deconv_seg_1 (Conv2DTranspos (None, None, None, 8)     4616      \n",
      "_________________________________________________________________\n",
      "decon_seg_2 (Conv2DTranspose (None, None, None, 8)     584       \n",
      "_________________________________________________________________\n",
      "seg (Conv2D)                 (None, None, None, 1)     8         \n",
      "_________________________________________________________________\n",
      "conv_1 (Conv2D)              (None, None, None, 16)    160       \n",
      "_________________________________________________________________\n",
      "conv_2 (Conv2D)              (None, None, None, 16)    2320      \n",
      "_________________________________________________________________\n",
      "conv_3 (Conv2D)              (None, None, None, 32)    4640      \n",
      "_________________________________________________________________\n",
      "conv_4 (Conv2D)              (None, None, None, 32)    9248      \n",
      "_________________________________________________________________\n",
      "conv_5 (Conv2D)              (None, None, None, 64)    51264     \n",
      "_________________________________________________________________\n",
      "dropout (Dropout)            (None, None, None, 64)    0         \n",
      "_________________________________________________________________\n",
      "deconv_1 (Conv2DTranspose)   (None, None, None, 8)     4616      \n",
      "_________________________________________________________________\n",
      "deconv_2 (Conv2DTranspose)   (None, None, None, 8)     584       \n",
      "_________________________________________________________________\n",
      "density (Conv2D)             (None, None, None, 1)     8         \n",
      "=================================================================\n",
      "Total params: 112,912\n",
      "Trainable params: 72,840\n",
      "Non-trainable params: 40,072\n",
      "_________________________________________________________________\n"
     ]
    }
   ],
   "source": [
    "from leb.defcon.networks import FCN\n",
    "from pathlib import Path\n",
    "\n",
    "# Import the trained model from the saved h5 file\n",
    "example_dir = 'DEFCoN_example_data'\n",
    "\n",
    "# Import the trained model from the saved h5 file\n",
    "filename = Path(example_dir) / Path('training/trained_models/my_trained_model.h5')\n",
    "model = FCN.from_file(filename)\n",
    "model.summary()"
   ]
  },
  {
   "cell_type": "code",
   "execution_count": 2,
   "metadata": {},
   "outputs": [
    {
     "name": "stdout",
     "output_type": "stream",
     "text": [
      "_________________________________________________________________\n",
      "Layer (type)                 Output Shape              Param #   \n",
      "=================================================================\n",
      "input (InputLayer)           (None, None, None, 1)     0         \n",
      "_________________________________________________________________\n",
      "hist_norm (Lambda)           (None, None, None, 1)     0         \n",
      "_________________________________________________________________\n",
      "conv_seg_1 (Conv2D)          (None, None, None, 16)    160       \n",
      "_________________________________________________________________\n",
      "conv_stride_1 (Conv2D)       (None, None, None, 16)    2320      \n",
      "_________________________________________________________________\n",
      "conv_seg_2 (Conv2D)          (None, None, None, 32)    4640      \n",
      "_________________________________________________________________\n",
      "conv_stride_2 (Conv2D)       (None, None, None, 32)    9248      \n",
      "_________________________________________________________________\n",
      "conv_seg_3 (Conv2D)          (None, None, None, 64)    18496     \n",
      "_________________________________________________________________\n",
      "dropout_seg (Dropout)        (None, None, None, 64)    0         \n",
      "_________________________________________________________________\n",
      "deconv_seg_1 (Conv2DTranspos (None, None, None, 8)     4616      \n",
      "_________________________________________________________________\n",
      "decon_seg_2 (Conv2DTranspose (None, None, None, 8)     584       \n",
      "_________________________________________________________________\n",
      "seg (Conv2D)                 (None, None, None, 1)     8         \n",
      "_________________________________________________________________\n",
      "conv_1 (Conv2D)              (None, None, None, 16)    160       \n",
      "_________________________________________________________________\n",
      "conv_2 (Conv2D)              (None, None, None, 16)    2320      \n",
      "_________________________________________________________________\n",
      "conv_3 (Conv2D)              (None, None, None, 32)    4640      \n",
      "_________________________________________________________________\n",
      "conv_4 (Conv2D)              (None, None, None, 32)    9248      \n",
      "_________________________________________________________________\n",
      "conv_5 (Conv2D)              (None, None, None, 64)    51264     \n",
      "_________________________________________________________________\n",
      "dropout (Dropout)            (None, None, None, 64)    0         \n",
      "_________________________________________________________________\n",
      "deconv_1 (Conv2DTranspose)   (None, None, None, 8)     4616      \n",
      "_________________________________________________________________\n",
      "deconv_2 (Conv2DTranspose)   (None, None, None, 8)     584       \n",
      "_________________________________________________________________\n",
      "density (Conv2D)             (None, None, None, 1)     8         \n",
      "_________________________________________________________________\n",
      "av_pool (AveragePooling2D)   (None, None, None, 1)     0         \n",
      "_________________________________________________________________\n",
      "mult (Lambda)                (None, None, None, 1)     0         \n",
      "_________________________________________________________________\n",
      "max_count_output (GlobalMaxP (None, 1)                 0         \n",
      "=================================================================\n",
      "Total params: 112,912\n",
      "Trainable params: 72,840\n",
      "Non-trainable params: 40,072\n",
      "_________________________________________________________________\n"
     ]
    }
   ],
   "source": [
    "# Adding prediction layer for max local count with 7x7 windows\n",
    "model.density_to_max_count(pool=(7,7))\n",
    "model.summary()"
   ]
  },
  {
   "cell_type": "markdown",
   "metadata": {},
   "source": [
    "The resulting model can then be served for Java:"
   ]
  },
  {
   "cell_type": "code",
   "execution_count": 3,
   "metadata": {},
   "outputs": [
    {
     "name": "stdout",
     "output_type": "stream",
     "text": [
      "INFO:tensorflow:No assets to save.\n",
      "INFO:tensorflow:No assets to write.\n",
      "INFO:tensorflow:SavedModel written to: b'serving/tf_max_count/saved_model.pb'\n"
     ]
    }
   ],
   "source": [
    "model.save_tf_model('serving/tf_max_count')"
   ]
  },
  {
   "cell_type": "code",
   "execution_count": null,
   "metadata": {
    "collapsed": true
   },
   "outputs": [],
   "source": []
  }
 ],
 "metadata": {
  "kernelspec": {
   "display_name": "Python 3",
   "language": "python",
   "name": "python3"
  },
  "language_info": {
   "codemirror_mode": {
    "name": "ipython",
    "version": 3
   },
   "file_extension": ".py",
   "mimetype": "text/x-python",
   "name": "python",
   "nbconvert_exporter": "python",
   "pygments_lexer": "ipython3",
   "version": "3.6.4"
  }
 },
 "nbformat": 4,
 "nbformat_minor": 2
}
