{
 "cells": [
  {
   "cell_type": "markdown",
   "metadata": {},
   "source": [
    "# DEFCoN Tutorial - Prediction\n",
    "\n",
    "This tutorial is a quick introduction to prediction with the Density Estimation Fully Convolutional Network (DEFCoN) for fluorescence spot counting in localization microscopy. This tutorial covers:\n",
    "\n",
    "- Loading the pre-trained DEFCoN model\n",
    "\n",
    "### Getting Help\n",
    "\n",
    "If you have any questions, please ask in the DEFCoN Gitter chat room: https://gitter.im/leb_epfl/DEFCoN\n",
    "\n",
    "### Additional Information\n",
    "\n",
    "DEFCoN is part of a family of software packages for automating super-resolution microscopes from the [Laboratory of Experimental Biophysics](https://leb.epfl.ch/) at the École Polytechnique Fédérale de Lausanne (EPFL), Switzerland. The other packages include:\n",
    "\n",
    "- [Automated Laser Illumination Control Algorithms (ALICA)](https://github.com/LEB-EPFL/ALICA)\n",
    "- [SMLM Simulation Acquisition Software (SASS)](https://github.com/LEB-EPFL/SASS)\n",
    "\n",
    "### Attribution\n",
    "\n",
    "If you use DEFCoN in your own work, then please use the following citation.\n",
    "\n",
    "> Ottino, B., Douglass, Kyle M., and Manley, S., \"DEFCoN\", https://github.com/kmdouglass/DEFCoN (2018)\n",
    "\n",
    "A full citation will follow shortly."
   ]
  },
  {
   "cell_type": "markdown",
   "metadata": {},
   "source": [
    "# Preliminary Steps\n",
    "\n",
    "Before running this tutorial, you should download the example datasets. These may be found at:\n",
    "\n",
    "> Ottino, Baptiste, Douglass, Kyle M., & Manley, Suliana. (2018). Example datasets for DEFCoN (Version 2) [Data set]. Zenodo. http://doi.org/10.5281/zenodo.1207965\n",
    "\n",
    "You may either do this manually, or run the code below to download the dataset directly to the same directory as this notebook."
   ]
  },
  {
   "cell_type": "code",
   "execution_count": 1,
   "metadata": {},
   "outputs": [],
   "source": [
    "import urllib.request as request\n",
    "import zipfile\n",
    "import os\n",
    "\n",
    "url_root = 'https://zenodo.org/record/1207965/files/'\n",
    "filename = 'DEFCoN_example_data.zip'\n",
    "url = url_root + filename\n",
    "\n",
    "# Download the zip file from Zenodo.\n",
    "with request.urlopen(url) as host_file:\n",
    "    with open(filename, 'wb') as client_file:\n",
    "        client_file.write(host_file.read())\n",
    "assert os.path.isfile(filename), 'Error: file {} does not exist.'.format(filename)\n",
    "\n",
    "# Extract the contents of the file to the same directory as this notebook.\n",
    "with zipfile.ZipFile(filename, 'r') as zip_ref:\n",
    "    zip_ref.extractall('./')\n",
    "    \n",
    "# Delete the zip file\n",
    "os.remove(filename)\n",
    "\n",
    "example_dir = filename.split('.')[0]"
   ]
  },
  {
   "cell_type": "markdown",
   "metadata": {},
   "source": [
    "# Load the trained DEFCoN network\n",
    "\n",
    "To begin, we need to specify the location of the trained DEFCoN network."
   ]
  },
  {
   "cell_type": "code",
   "execution_count": 2,
   "metadata": {},
   "outputs": [],
   "source": [
    "# Obtain the filename for the saved DEFCoN model\n",
    "import pkg_resources\n",
    "defcon_model = pkg_resources.resource_filename('defcon.resources', 'defcon_tf13.h5')"
   ]
  },
  {
   "cell_type": "markdown",
   "metadata": {},
   "source": [
    "Next, we load the network weights into a model that we can use for prediction. To do this, you must have the exact combination of Python 3.6, TensorFlow 1.3.0, and Keras 2.0.8 installed."
   ]
  },
  {
   "cell_type": "code",
   "execution_count": 3,
   "metadata": {},
   "outputs": [
    {
     "name": "stderr",
     "output_type": "stream",
     "text": [
      "/home/kmdouglass/miniconda3/envs/defcon36/lib/python3.6/site-packages/h5py/__init__.py:36: FutureWarning: Conversion of the second argument of issubdtype from `float` to `np.floating` is deprecated. In future, it will be treated as `np.float64 == np.dtype(float).type`.\n",
      "  from ._conv import register_converters as _register_converters\n",
      "Using TensorFlow backend.\n"
     ]
    }
   ],
   "source": [
    "from defcon.networks import FCN\n",
    "model = FCN.from_file(defcon_model)"
   ]
  },
  {
   "cell_type": "markdown",
   "metadata": {},
   "source": [
    "# Prediction\n",
    "\n",
    "Now that we have loaded the DEFCoN model, we can apply it to the test data we downloaded in the preliminary section."
   ]
  },
  {
   "cell_type": "code",
   "execution_count": 4,
   "metadata": {},
   "outputs": [],
   "source": [
    "from pathlib import Path\n",
    "\n",
    "# Predict from a TIF image stack\n",
    "tif_file = str(Path(example_dir) / Path('data_2/generated_stack.tif'))\n",
    "y_pred = model.predict_tiff(tif_file)"
   ]
  },
  {
   "cell_type": "markdown",
   "metadata": {},
   "source": [
    "Visualizing the results:"
   ]
  },
  {
   "cell_type": "code",
   "execution_count": 5,
   "metadata": {},
   "outputs": [
    {
     "data": {
      "image/png": "[encoded data removed]",
      "text/plain": [
       "<Figure size 504x216 with 2 Axes>"
      ]
     },
     "metadata": {},
     "output_type": "display_data"
    }
   ],
   "source": [
    "import tifffile\n",
    "import numpy as np\n",
    "import matplotlib.pyplot as plt\n",
    "\n",
    "frame_num = 900\n",
    "\n",
    "pred = y_pred[frame_num, :, :, :].squeeze()\n",
    "\n",
    "# Input files\n",
    "imgs = tifffile.imread(tif_file)\n",
    "    \n",
    "fig, ax = plt.subplots(ncols=2, figsize=(7,3))\n",
    "ax[0].imshow(imgs[frame_num, :, :])\n",
    "ax[1].imshow(pred)\n",
    "\n",
    "ax[0].set_title('Input\\n')\n",
    "ax[1].set_title('Prediction\\n{:.2f}'.format(np.sum(pred)))\n",
    "\n",
    "for a in ax:\n",
    "    a.set_axis_off()\n",
    "    \n",
    "#plt.savefig('defcon_demo_2.png')\n",
    "plt.show()"
   ]
  },
  {
   "cell_type": "code",
   "execution_count": null,
   "metadata": {},
   "outputs": [],
   "source": []
  }
 ],
 "metadata": {
  "kernelspec": {
   "display_name": "Python 3",
   "language": "python",
   "name": "python3"
  },
  "language_info": {
   "codemirror_mode": {
    "name": "ipython",
    "version": 3
   },
   "file_extension": ".py",
   "mimetype": "text/x-python",
   "name": "python",
   "nbconvert_exporter": "python",
   "pygments_lexer": "ipython3",
   "version": "3.6.5"
  }
 },
 "nbformat": 4,
 "nbformat_minor": 2
}
